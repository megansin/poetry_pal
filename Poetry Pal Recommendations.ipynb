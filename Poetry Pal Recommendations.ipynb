{
 "cells": [
  {
   "cell_type": "code",
   "execution_count": 1,
   "metadata": {},
   "outputs": [
    {
     "name": "stdout",
     "output_type": "stream",
     "text": [
      "WARNING:tensorflow:From c:\\Users\\ics07\\AppData\\Local\\Programs\\Python\\Python311\\Lib\\site-packages\\keras\\src\\losses.py:2976: The name tf.losses.sparse_softmax_cross_entropy is deprecated. Please use tf.compat.v1.losses.sparse_softmax_cross_entropy instead.\n",
      "\n"
     ]
    }
   ],
   "source": [
    "import gzip\n",
    "import json\n",
    "import math\n",
    "from collections import defaultdict\n",
    "import numpy as np\n",
    "import tensorflow as tf\n",
    "from tensorflow.keras.models import Model\n",
    "from tensorflow.keras.layers import Input, Embedding, Flatten, Concatenate, Dense, Multiply\n",
    "from tensorflow.keras.optimizers import Adam\n",
    "from tensorflow.keras.regularizers import l2\n",
    "from sklearn.model_selection import train_test_split\n",
    "from sklearn.preprocessing import LabelEncoder"
   ]
  },
  {
   "cell_type": "code",
   "execution_count": 2,
   "metadata": {},
   "outputs": [],
   "source": [
    "path = 'goodreads_interactions_poetry.json.gz'\n",
    "\n",
    "dataset = []\n",
    "\n",
    "with gzip.open(path, 'rt', encoding='utf8') as file:\n",
    "    # Process the file line by line\n",
    "    for line in file:\n",
    "        # Decode each line from JSON format\n",
    "        json_content = json.loads(line)\n",
    "        dataset.append(json_content)\n"
   ]
  },
  {
   "cell_type": "code",
   "execution_count": 29,
   "metadata": {},
   "outputs": [],
   "source": [
    "usersPerItem = defaultdict(set)\n",
    "itemsPerUser = defaultdict(set)\n",
    "items = []\n",
    "users = []\n",
    "ratings = []"
   ]
  },
  {
   "cell_type": "code",
   "execution_count": 30,
   "metadata": {},
   "outputs": [],
   "source": [
    "for d in dataset:\n",
    "    user,item, rating = d['user_id'], d['book_id'], d['rating']\n",
    "    usersPerItem[item].add(user)\n",
    "    itemsPerUser[user].add(item)\n",
    "    items.append(item)\n",
    "    users.append(user)\n",
    "    ratings.append(rating)"
   ]
  },
  {
   "cell_type": "code",
   "execution_count": 31,
   "metadata": {},
   "outputs": [],
   "source": [
    "uniqueItems = list(set(items))\n",
    "uniqueUsers = list(set(users))"
   ]
  },
  {
   "cell_type": "code",
   "execution_count": 34,
   "metadata": {},
   "outputs": [],
   "source": [
    "# Create user and item indices\n",
    "user_index = {user: i for i, user in enumerate(uniqueUsers)}\n",
    "item_index = {item: i for i, item in enumerate(uniqueItems)}\n",
    "\n",
    "# Convert reviews to numerical data\n",
    "user_ids = [user_index[d['user_id']] for d in dataset]\n",
    "item_ids = [item_index[d['book_id']] for d in dataset]"
   ]
  },
  {
   "cell_type": "code",
   "execution_count": 10,
   "metadata": {},
   "outputs": [
    {
     "name": "stdout",
     "output_type": "stream",
     "text": [
      "WARNING:tensorflow:From c:\\Users\\ics07\\AppData\\Local\\Programs\\Python\\Python311\\Lib\\site-packages\\keras\\src\\backend.py:1398: The name tf.executing_eagerly_outside_functions is deprecated. Please use tf.compat.v1.executing_eagerly_outside_functions instead.\n",
      "\n"
     ]
    }
   ],
   "source": [
    "# ncf_model_with_gmf = tf.keras.models.load_model('ncf_with_gmf_model.h5')\n"
   ]
  },
  {
   "cell_type": "code",
   "execution_count": 19,
   "metadata": {},
   "outputs": [],
   "source": [
    "def create_ncf_model_with_gmf(num_users, num_items, embedding_size=64, hidden_units=(64, 32)):\n",
    "    user_input = Input(shape=(1,), name='user_input')\n",
    "    item_input = Input(shape=(1,), name='item_input')\n",
    "\n",
    "    user_embedding = Embedding(input_dim=num_users, output_dim=embedding_size)(user_input)\n",
    "    item_embedding = Embedding(input_dim=num_items, output_dim=embedding_size)(item_input)\n",
    "\n",
    "    # GMF\n",
    "    gmf_layer = Multiply()([user_embedding, item_embedding])\n",
    "\n",
    "    user_flat = Flatten()(user_embedding)\n",
    "    item_flat = Flatten()(item_embedding)\n",
    "    gmf_flat = Flatten()(gmf_layer)\n",
    "\n",
    "    # MLP\n",
    "    mlp_output = Concatenate()([user_flat, item_flat])\n",
    "    for units in hidden_units:\n",
    "        mlp_output = Dense(units, activation='relu')(mlp_output)\n",
    "\n",
    "    # CONCAT\n",
    "    concat = Concatenate()([mlp_output, gmf_flat])\n",
    "\n",
    "    output = Dense(1, activation='relu')(concat)\n",
    "\n",
    "    model = Model(inputs=[user_input, item_input], outputs=output)\n",
    "    model.compile(optimizer='adam', loss='mean_squared_error', metrics=['mae'])\n",
    "\n",
    "    return model\n",
    "\n"
   ]
  },
  {
   "cell_type": "code",
   "execution_count": 35,
   "metadata": {},
   "outputs": [],
   "source": [
    "# TRAIN AND EVAL\n",
    "user_ids = np.array(user_ids)\n",
    "item_ids = np.array(item_ids)\n",
    "ratings = np.array(ratings)\n",
    "\n",
    "ncf_model_with_gmf = create_ncf_model_with_gmf(len(user_ids), len(item_ids))"
   ]
  },
  {
   "cell_type": "code",
   "execution_count": 38,
   "metadata": {},
   "outputs": [
    {
     "name": "stdout",
     "output_type": "stream",
     "text": [
      "Epoch 1/10\n",
      "219/219 [==============================] - 273s 1s/step - loss: 2.9216 - mae: 1.3569 - val_loss: 4.3533 - val_mae: 1.8875\n",
      "Epoch 2/10\n",
      "219/219 [==============================] - 252s 1s/step - loss: 2.3901 - mae: 1.1387 - val_loss: 4.3762 - val_mae: 1.8855\n",
      "Epoch 3/10\n",
      "219/219 [==============================] - 251s 1s/step - loss: 2.2595 - mae: 1.0781 - val_loss: 4.4040 - val_mae: 1.8679\n",
      "Epoch 4/10\n",
      "219/219 [==============================] - 248s 1s/step - loss: 2.1284 - mae: 1.0155 - val_loss: 4.4413 - val_mae: 1.8643\n",
      "Epoch 5/10\n",
      "219/219 [==============================] - 249s 1s/step - loss: 2.0056 - mae: 0.9631 - val_loss: 4.4691 - val_mae: 1.8730\n",
      "Epoch 6/10\n",
      "219/219 [==============================] - 252s 1s/step - loss: 1.8870 - mae: 0.9164 - val_loss: 4.5300 - val_mae: 1.8697\n",
      "Epoch 7/10\n",
      "219/219 [==============================] - 258s 1s/step - loss: 1.7212 - mae: 0.8480 - val_loss: 4.6855 - val_mae: 1.8623\n",
      "Epoch 8/10\n",
      "219/219 [==============================] - 257s 1s/step - loss: 1.4842 - mae: 0.7488 - val_loss: 4.8481 - val_mae: 1.8661\n",
      "Epoch 9/10\n",
      "219/219 [==============================] - 244s 1s/step - loss: 1.2358 - mae: 0.6479 - val_loss: 5.1060 - val_mae: 1.8412\n",
      "Epoch 10/10\n",
      "219/219 [==============================] - 245s 1s/step - loss: 1.0173 - mae: 0.5571 - val_loss: 5.2559 - val_mae: 1.8406\n"
     ]
    },
    {
     "data": {
      "text/plain": [
       "<keras.src.callbacks.History at 0x1f79e9b0210>"
      ]
     },
     "execution_count": 38,
     "metadata": {},
     "output_type": "execute_result"
    }
   ],
   "source": [
    "ncf_model_with_gmf.fit([user_ids, item_ids], ratings, epochs=10, batch_size=000, validation_split=0.2)"
   ]
  },
  {
   "cell_type": "code",
   "execution_count": 39,
   "metadata": {},
   "outputs": [],
   "source": [
    "ncf_model_with_gmf.save(\"neumf.keras\")"
   ]
  },
  {
   "cell_type": "code",
   "execution_count": 94,
   "metadata": {},
   "outputs": [],
   "source": [
    "def display_recommendations(user, top_n=5):\n",
    "\n",
    "    recs = []\n",
    "    knownItems = itemsPerUser[user]\n",
    "    print(knownItems)\n",
    "    user_id = user_index[user]\n",
    "    itemsToPredict = []\n",
    "    usersToPredict = []\n",
    "\n",
    "    for i in range(len(uniqueItems)):\n",
    "        if uniqueItems[i] in knownItems:\n",
    "            continue\n",
    "        itemsToPredict.append(i)\n",
    "\n",
    "    for i in itemsToPredict:\n",
    "        usersToPredict.append(user_id)\n",
    "\n",
    "    itemsToPredict = np.array(itemsToPredict)\n",
    "    usersToPredict = np.array(usersToPredict)\n",
    "    prediction = ncf_model_with_gmf.predict([usersToPredict, itemsToPredict])\n",
    "    \n",
    "    for i in range(len(prediction)):\n",
    "        recs.append((uniqueItems[itemsToPredict[i]], prediction[i]))\n",
    "    recs.sort(key=lambda x: x[1], reverse=True)\n",
    "\n",
    "    print(f\"Top {top_n} Recommendations for User {user}:\")\n",
    "    for i, (recommended_item, predicted_rating) in enumerate(recs[:top_n]):\n",
    "        print(f\"{i + 1}. Item: {recommended_item}, Predicted Rating: {predicted_rating}\")"
   ]
  },
  {
   "cell_type": "code",
   "execution_count": 95,
   "metadata": {},
   "outputs": [
    {
     "name": "stdout",
     "output_type": "stream",
     "text": [
      "{'1376', '30119', '1384'}\n",
      "1141/1141 [==============================] - 2s 2ms/step\n",
      "Top 5 Recommendations for User 8842281e1d1347389f2ab93d60773d4d:\n",
      "1. Item: 10164837, Predicted Rating: [6.9882984]\n",
      "2. Item: 17553758, Predicted Rating: [6.7774725]\n",
      "3. Item: 12973539, Predicted Rating: [6.5570173]\n",
      "4. Item: 352003, Predicted Rating: [6.543495]\n",
      "5. Item: 13605561, Predicted Rating: [6.5263596]\n"
     ]
    }
   ],
   "source": [
    "display_recommendations('8842281e1d1347389f2ab93d60773d4d')"
   ]
  },
  {
   "cell_type": "code",
   "execution_count": 96,
   "metadata": {},
   "outputs": [
    {
     "name": "stdout",
     "output_type": "stream",
     "text": [
      "{'435291afef0d8ef5533c251f1dcef038', '446a78a97c434dca98e7ea176ee9fa1f'}\n"
     ]
    }
   ],
   "source": [
    "print(usersPerItem['10164837'])"
   ]
  }
 ],
 "metadata": {
  "kernelspec": {
   "display_name": "Python 3",
   "language": "python",
   "name": "python3"
  },
  "language_info": {
   "codemirror_mode": {
    "name": "ipython",
    "version": 3
   },
   "file_extension": ".py",
   "mimetype": "text/x-python",
   "name": "python",
   "nbconvert_exporter": "python",
   "pygments_lexer": "ipython3",
   "version": "3.11.7"
  }
 },
 "nbformat": 4,
 "nbformat_minor": 2
}
